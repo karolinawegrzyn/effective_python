{
  "cells": [
    {
      "cell_type": "markdown",
      "metadata": {
        "id": "view-in-github",
        "colab_type": "text"
      },
      "source": [
        "<a href=\"https://colab.research.google.com/github/karolinawegrzyn/effective_python/blob/master/lab03.ipynb\" target=\"_parent\"><img src=\"https://colab.research.google.com/assets/colab-badge.svg\" alt=\"Open In Colab\"/></a>"
      ]
    },
    {
      "cell_type": "markdown",
      "metadata": {
        "id": "qe2m0Nbn61u2"
      },
      "source": [
        "## Lab 03"
      ]
    },
    {
      "cell_type": "markdown",
      "metadata": {
        "id": "XLHFkApL61u2"
      },
      "source": [
        "## Zadanie 1"
      ]
    },
    {
      "cell_type": "markdown",
      "metadata": {
        "id": "5XOk3U7c61u3"
      },
      "source": [
        "a) Napisz funkcję, która wypisuje wiadomość opcjonalnie wraz z podaną wartością"
      ]
    },
    {
      "cell_type": "code",
      "execution_count": null,
      "metadata": {
        "colab": {
          "base_uri": "https://localhost:8080/"
        },
        "id": "iKlC5ZBY61u3",
        "outputId": "ed4786cb-1d0f-4922-bdc4-ee63f39d542a"
      },
      "outputs": [
        {
          "output_type": "stream",
          "name": "stdout",
          "text": [
            "Hello World!\n",
            "The value is: 42\n"
          ]
        }
      ],
      "source": [
        "def log(message, *args):\n",
        "    if args:\n",
        "      print(message, *args, sep=': ')\n",
        "    else:\n",
        "      print(message)\n",
        "\n",
        "log(\"Hello World!\") # Hello World!\n",
        "log(\"The value is\", 42) # The value is: 42"
      ]
    },
    {
      "cell_type": "markdown",
      "metadata": {
        "id": "HeWqfNWt61u3"
      },
      "source": [
        "b) Napisz funkcję, która zwraca średnią z podanych liczb"
      ]
    },
    {
      "cell_type": "code",
      "execution_count": null,
      "metadata": {
        "colab": {
          "base_uri": "https://localhost:8080/"
        },
        "id": "22WgIs9d61u4",
        "outputId": "ef3ea2e3-6753-43ee-daa9-7f69ac35e860"
      },
      "outputs": [
        {
          "output_type": "stream",
          "name": "stdout",
          "text": [
            "True\n",
            "True\n",
            "True\n"
          ]
        }
      ],
      "source": [
        "def mean(*args):\n",
        "  return sum(args)/len(args)\n",
        "\n",
        "print(mean(1,2,3) == 2)\n",
        "print(mean(2,2,4,4) == 3)\n",
        "print(mean(1,2,3,4,5,61,2,12,123,123) == 33.6)"
      ]
    },
    {
      "cell_type": "markdown",
      "metadata": {
        "id": "7g9F5Ad361u4"
      },
      "source": [
        "c) Napisz funkcję, która sprawdza, czy w danym słowniku znajduje się conajmniej podana liczba elementów"
      ]
    },
    {
      "cell_type": "code",
      "execution_count": null,
      "metadata": {
        "colab": {
          "base_uri": "https://localhost:8080/"
        },
        "id": "pDx4-vCj61u4",
        "outputId": "5002bd1b-2692-4874-b48f-9b364e0b5a34"
      },
      "outputs": [
        {
          "output_type": "stream",
          "name": "stdout",
          "text": [
            "True\n",
            "True\n",
            "True\n",
            "True\n",
            "True\n",
            "True\n",
            "True\n",
            "True\n",
            "True\n",
            "True\n",
            "True\n",
            "True\n"
          ]
        }
      ],
      "source": [
        "def check_dictionary_content(dict, **kwargs):\n",
        "  for key, value in kwargs.items():\n",
        "    if (key not in dict.keys() and value > 0) or (key in dict.keys() and dict.get(key) < value):\n",
        "      return False\n",
        "  return True\n",
        "\n",
        "d = {'orange': 3, 'apple': 1, 'dogs': 10}\n",
        "print(check_dictionary_content(d, orange=2) == True)\n",
        "print(check_dictionary_content(d, orange=2, apple=1) == True)\n",
        "print(check_dictionary_content(d, dogs=11) == False)\n",
        "print(check_dictionary_content(d, dogs=9, cats=0) == True)\n",
        "print(check_dictionary_content(d, apple=0, cats=1) == False)\n",
        "print(check_dictionary_content(d, **d) == True)\n",
        "\n",
        "d = {'orange': 3, 'apple': 1, 'dogs': 10}\n",
        "print(check_dictionary_content(d, orange=2) == True)\n",
        "print(check_dictionary_content(d, orange=2, apple=1) == True)\n",
        "print(check_dictionary_content(d, dogs=11) == False)\n",
        "print(check_dictionary_content(d, dogs=9, cats=0) == True)\n",
        "print(check_dictionary_content(d, apple=0, cats=1) == False)\n",
        "print(check_dictionary_content(d, **d) == True)"
      ]
    },
    {
      "cell_type": "markdown",
      "metadata": {
        "id": "D3_jVc2c61u4"
      },
      "source": [
        "## Zadanie 2\n",
        "Napisz funkcję która dla listy liczb zwróci listę częściowych udziałów w sumie tych liczb"
      ]
    },
    {
      "cell_type": "code",
      "execution_count": null,
      "metadata": {
        "colab": {
          "base_uri": "https://localhost:8080/"
        },
        "id": "BZ3_VtEW61u4",
        "outputId": "6d8f70f4-6b74-4335-8930-fe32ead95470"
      },
      "outputs": [
        {
          "output_type": "stream",
          "name": "stdout",
          "text": [
            "True\n",
            "True\n",
            "True\n"
          ]
        }
      ],
      "source": [
        "def numbers_to_percents(values):\n",
        "  return [i/sum(values) for i in values]\n",
        "\n",
        "print(numbers_to_percents([1,2,1])==[0.25, 0.5, 0.25])\n",
        "print(numbers_to_percents([1])==[1])\n",
        "print(numbers_to_percents([1,2,3,4])==[0.1, 0.2, 0.3, 0.4])"
      ]
    },
    {
      "cell_type": "markdown",
      "metadata": {
        "id": "O2eDUjZm61u4"
      },
      "source": [
        "Co się stanie gdy jako wejście funkcji podamy generator? W jaki sposób możemy wykryć czy wejście jest listą czy iteratorem?"
      ]
    },
    {
      "cell_type": "code",
      "execution_count": null,
      "metadata": {
        "colab": {
          "base_uri": "https://localhost:8080/"
        },
        "id": "LBRlwPXi61u4",
        "outputId": "b4f21da6-c8b6-4845-ad1f-4b7a4fd6f739"
      },
      "outputs": [
        {
          "output_type": "stream",
          "name": "stdout",
          "text": [
            "[0.0]\n",
            "True\n",
            "False\n"
          ]
        }
      ],
      "source": [
        "print(numbers_to_percents(i for i in range(5)))\n",
        "\n",
        "# możemy użyć funkcji isinstance() oraz GeneratorTypes\n",
        "import types\n",
        "print(isinstance((i for i in range(5)), types.GeneratorType))\n",
        "print(isinstance([1,2,3], types.GeneratorType))"
      ]
    },
    {
      "cell_type": "markdown",
      "metadata": {
        "id": "D-L_QNQW61u5"
      },
      "source": [
        "## Zadanie 3"
      ]
    },
    {
      "cell_type": "markdown",
      "metadata": {
        "id": "52zFMbrt61u5"
      },
      "source": [
        "a) Napisz funkcję `zwroc_rosnace` która dostanie na wejsciu funkcje jednoargumentową oraz argumenty do niej a następnie zwróci te argumenty dla których wynik jest większy od argumentu."
      ]
    },
    {
      "cell_type": "code",
      "execution_count": null,
      "metadata": {
        "colab": {
          "base_uri": "https://localhost:8080/"
        },
        "id": "vBS1V9Xv61u5",
        "outputId": "f5dc9fe7-37ab-48a2-826d-63278466f991"
      },
      "outputs": [
        {
          "output_type": "stream",
          "name": "stdout",
          "text": [
            "True\n",
            "True\n",
            "True\n"
          ]
        }
      ],
      "source": [
        "def zwroc_rosnace(f, *args):\n",
        "  return [arg for arg in args if f(arg) > arg]\n",
        "\n",
        "def f1(n):\n",
        "    return n**2-3*n\n",
        "\n",
        "def f2(n):\n",
        "    return 100-n\n",
        "\n",
        "def f3(word):\n",
        "    return word[::-1]\n",
        "\n",
        "print(zwroc_rosnace(f1, 4, 6, 2, -5)==[6, -5])\n",
        "print(zwroc_rosnace(f2, *range(100))==list(range(50)))\n",
        "print(zwroc_rosnace(f3, \"python\", \"nie\", \"jest\", \"bardzo\", \"fajny\")==['jest', 'bardzo', 'fajny'])"
      ]
    },
    {
      "cell_type": "markdown",
      "metadata": {
        "id": "8Gg7fvp161u5"
      },
      "source": [
        "b) Dopisz drugą, podobną funkcję która będzie zwracać argumenty których wyniki są większe od wyników poprzedniego argumentu"
      ]
    },
    {
      "cell_type": "code",
      "execution_count": null,
      "metadata": {
        "colab": {
          "base_uri": "https://localhost:8080/"
        },
        "id": "eSrd9J0861u5",
        "outputId": "95797a09-890b-482f-d110-c58df82db097"
      },
      "outputs": [
        {
          "output_type": "stream",
          "name": "stdout",
          "text": [
            "True\n",
            "True\n",
            "True\n"
          ]
        }
      ],
      "source": [
        "def zwroc_rosnace(f, *args):\n",
        "  last_result = f(args[0])\n",
        "  results = []\n",
        "  for arg in args[1:]:\n",
        "    if f(arg) > last_result:\n",
        "      results.append(arg)\n",
        "    last_result = f(arg)\n",
        "  return results\n",
        "\n",
        "def f1(n):\n",
        "    return n**2-3*n\n",
        "\n",
        "def f2(n):\n",
        "    return 100-n\n",
        "\n",
        "def f3(word):\n",
        "    return word[::-1]\n",
        "\n",
        "print(zwroc_rosnace(f1, 4, -5, 6, 2)==[-5])\n",
        "print(zwroc_rosnace(f2, *range(100))==[])\n",
        "print(zwroc_rosnace(f3, \"python\", \"nie\", \"jest\", \"bardzo\", \"fajny\")==['jest', 'fajny'])"
      ]
    },
    {
      "cell_type": "markdown",
      "metadata": {
        "id": "lhIeKZB_61u5"
      },
      "source": [
        "## Zadanie 4"
      ]
    },
    {
      "cell_type": "markdown",
      "metadata": {
        "id": "1lkdtblT61u5"
      },
      "source": [
        "Napisz funkcję która będzie zwracała który raz jest wywoływana"
      ]
    },
    {
      "cell_type": "code",
      "execution_count": null,
      "metadata": {
        "colab": {
          "base_uri": "https://localhost:8080/"
        },
        "id": "Ef0mKty261u5",
        "outputId": "a44abc07-0603-4ab4-fa4f-e3696b7aad20"
      },
      "outputs": [
        {
          "output_type": "stream",
          "name": "stdout",
          "text": [
            "True\n",
            "True\n",
            "True\n"
          ]
        }
      ],
      "source": [
        "def ile_wywolana():\n",
        "  ile_wywolana.licznik += 1\n",
        "  return ile_wywolana.licznik\n",
        "\n",
        "ile_wywolana.licznik = 0\n",
        "\n",
        "print(ile_wywolana()==1)\n",
        "print(ile_wywolana()==2)\n",
        "print(ile_wywolana()==3)"
      ]
    },
    {
      "cell_type": "markdown",
      "metadata": {
        "id": "pjCYAA2661u5"
      },
      "source": [
        "## Zadanie 5"
      ]
    },
    {
      "cell_type": "markdown",
      "source": [
        "Napisz generator zwracający nieskończony ciąg licz pierwszych"
      ],
      "metadata": {
        "id": "OsizDEWC8huk"
      }
    },
    {
      "cell_type": "code",
      "execution_count": null,
      "metadata": {
        "id": "qW4tqMCP61u6"
      },
      "outputs": [],
      "source": [
        "from math import sqrt\n",
        "\n",
        "def get_primes(number):\n",
        "  while True:\n",
        "    if is_prime(number):\n",
        "      yield number\n",
        "    number += 1\n",
        "\n",
        "def is_prime(n):\n",
        "  if n < 2:\n",
        "    return False\n",
        "  for i in range(2, int(sqrt(n)) + 1):\n",
        "    if n % i == 0:\n",
        "      return False\n",
        "  return True"
      ]
    },
    {
      "cell_type": "markdown",
      "metadata": {
        "id": "TZ-TMwgx61u6"
      },
      "source": [
        "## Zadanie 6"
      ]
    },
    {
      "cell_type": "markdown",
      "metadata": {
        "id": "AAKlEGLK61u6"
      },
      "source": [
        "Uzupełnij definicje poniższych funkcji/generatorów."
      ]
    },
    {
      "cell_type": "code",
      "execution_count": null,
      "metadata": {
        "colab": {
          "base_uri": "https://localhost:8080/"
        },
        "id": "MN9uEQU_61u6",
        "outputId": "dcbd934b-555d-4da1-9913-e9bf74b05fb0"
      },
      "outputs": [
        {
          "output_type": "stream",
          "name": "stdout",
          "text": [
            "True\n",
            "0 True\n",
            "1 True\n",
            "2 True\n",
            "3 True\n",
            "4 True\n",
            "5 True\n",
            "6 True\n",
            "7 True\n",
            "8 True\n",
            "9 True\n",
            "10 True\n",
            "11 True\n",
            "12 True\n",
            "13 True\n",
            "14 True\n",
            "15 True\n",
            "16 True\n",
            "17 True\n",
            "18 True\n",
            "19 True\n",
            "20 True\n",
            "21 True\n",
            "0 True\n",
            "1 True\n",
            "2 True\n",
            "3 True\n",
            "4 True\n",
            "5 True\n",
            "6 True\n",
            "7 True\n",
            "8 True\n",
            "9 True\n",
            "10 True\n",
            "11 True\n",
            "12 True\n",
            "13 True\n",
            "14 True\n",
            "15 True\n",
            "16 True\n",
            "17 True\n",
            "18 True\n",
            "19 True\n",
            "20 True\n",
            "21 True\n"
          ]
        }
      ],
      "source": [
        "def natural_numbers(k=0):\n",
        "  while True:\n",
        "    yield k\n",
        "    k += 1\n",
        "\n",
        "import types\n",
        "print(isinstance(natural_numbers(), types.GeneratorType))\n",
        "\n",
        "for i, n in enumerate(natural_numbers()):\n",
        "    print(i, i == n)\n",
        "    if i > 20:\n",
        "        break\n",
        "\n",
        "for i, n in enumerate(natural_numbers(1)):\n",
        "    print(i, i+1 == n)\n",
        "    if i > 20:\n",
        "        break"
      ]
    },
    {
      "cell_type": "code",
      "execution_count": null,
      "metadata": {
        "colab": {
          "base_uri": "https://localhost:8080/"
        },
        "id": "8L0BwPNp61u6",
        "outputId": "9dc8cc62-411c-4255-ee64-a57757afcc22"
      },
      "outputs": [
        {
          "output_type": "stream",
          "name": "stdout",
          "text": [
            "True\n",
            "1 True\n",
            "1 True\n",
            "2 True\n",
            "6 True\n",
            "24 True\n",
            "120 True\n",
            "720 True\n",
            "5040 True\n"
          ]
        }
      ],
      "source": [
        "def factorials():\n",
        "  f, k = 1, 1\n",
        "  while True:\n",
        "    yield f\n",
        "    f *= k\n",
        "    k += 1\n",
        "\n",
        "import types\n",
        "print(isinstance(factorials(), types.GeneratorType))\n",
        "\n",
        "results = [1, 1, 2, 6, 24, 120, 720, 5040]\n",
        "for truth, answer in zip(results, factorials()):\n",
        "    print(truth, truth == answer)"
      ]
    },
    {
      "cell_type": "markdown",
      "metadata": {
        "id": "TArLeRKy61u6"
      },
      "source": [
        "## Zadanie 7\n",
        "\n",
        "Napisz generator nieskończonego ciągu [liczb Fibonacciego](https://pl.wikipedia.org/wiki/Ci%C4%85g_Fibonacciego)."
      ]
    },
    {
      "cell_type": "code",
      "execution_count": null,
      "metadata": {
        "id": "A_WlChuK61u6"
      },
      "outputs": [],
      "source": [
        "def fibonacci():\n",
        "  f0, f1 = 1, 1\n",
        "  while True:\n",
        "    yield f0\n",
        "    f0, f1 = f1, f0 + f1"
      ]
    }
  ],
  "metadata": {
    "kernelspec": {
      "display_name": "Python 3",
      "language": "python",
      "name": "python3"
    },
    "language_info": {
      "codemirror_mode": {
        "name": "ipython",
        "version": 3
      },
      "file_extension": ".py",
      "mimetype": "text/x-python",
      "name": "python",
      "nbconvert_exporter": "python",
      "pygments_lexer": "ipython3",
      "version": "3.7.9"
    },
    "colab": {
      "provenance": [],
      "include_colab_link": true
    }
  },
  "nbformat": 4,
  "nbformat_minor": 0
}