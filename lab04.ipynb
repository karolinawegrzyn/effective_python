{
  "cells": [
    {
      "cell_type": "markdown",
      "metadata": {
        "id": "view-in-github",
        "colab_type": "text"
      },
      "source": [
        "<a href=\"https://colab.research.google.com/github/karolinawegrzyn/effective_python/blob/master/lab04.ipynb\" target=\"_parent\"><img src=\"https://colab.research.google.com/assets/colab-badge.svg\" alt=\"Open In Colab\"/></a>"
      ]
    },
    {
      "cell_type": "markdown",
      "metadata": {
        "id": "i8UISRT4V0al"
      },
      "source": [
        "## Lab 04"
      ]
    },
    {
      "cell_type": "markdown",
      "metadata": {
        "id": "syLEEttZV0am"
      },
      "source": [
        "## Zadanie 1 (Igor Sieradzki)"
      ]
    },
    {
      "cell_type": "markdown",
      "metadata": {
        "id": "BzqajphDV0am"
      },
      "source": [
        "Funkcja <t>flow_rate</i> do modyfikacji"
      ]
    },
    {
      "cell_type": "code",
      "execution_count": null,
      "metadata": {
        "collapsed": true,
        "id": "ubaWL7msV0am"
      },
      "outputs": [],
      "source": [
        "def flow_rate(weight, time, period=1, units_per_kg=1):\n",
        "    \"\"\" Funkcja wylicza ile wagi produktu przybyło/ubyło w jednostce czasu \"\"\"\n",
        "    return (weight / time) * units_per_kg / period\n",
        "\n",
        "weight = 0.5\n",
        "time = 3"
      ]
    },
    {
      "cell_type": "code",
      "execution_count": null,
      "metadata": {
        "collapsed": true,
        "colab": {
          "base_uri": "https://localhost:8080/"
        },
        "id": "nipEH33EV0an",
        "outputId": "6f09a08e-3502-4d8f-beb1-a8eb6b79a2b6"
      },
      "outputs": [
        {
          "output_type": "stream",
          "name": "stdout",
          "text": [
            "0.167 kg per second\n"
          ]
        }
      ],
      "source": [
        "flow = flow_rate(weight, time)\n",
        "print(\"{0:.3} kg per second\".format(flow))"
      ]
    },
    {
      "cell_type": "code",
      "execution_count": null,
      "metadata": {
        "collapsed": true,
        "id": "JId1XY8ZV0an"
      },
      "outputs": [],
      "source": [
        "Zmodyfikuj funckje <i>flow_rate</i> tak, aby poniższe wywołania działały poprawnie."
      ]
    },
    {
      "cell_type": "code",
      "execution_count": null,
      "metadata": {
        "collapsed": true,
        "colab": {
          "base_uri": "https://localhost:8080/"
        },
        "id": "rrxdJHm-V0ao",
        "outputId": "f3676352-78e5-413d-e644-fba7ef6736a4"
      },
      "outputs": [
        {
          "output_type": "stream",
          "name": "stdout",
          "text": [
            "2.7777777777777777 grams per minute\n"
          ]
        }
      ],
      "source": [
        "flow = flow_rate(weight, time, period=60, units_per_kg=1000)\n",
        "print(\"{} grams per minute\".format(flow))"
      ]
    },
    {
      "cell_type": "code",
      "execution_count": null,
      "metadata": {
        "collapsed": true,
        "colab": {
          "base_uri": "https://localhost:8080/"
        },
        "id": "WRnu4_CVV0ao",
        "outputId": "1b246e68-4b2b-4bd3-a8a7-01e89333e771"
      },
      "outputs": [
        {
          "output_type": "stream",
          "name": "stdout",
          "text": [
            "0.167 kg per second\n"
          ]
        }
      ],
      "source": [
        "flow = flow_rate(weight, time, period=1, units_per_kg=1)\n",
        "print(\"{0:.3} kg per second\".format(flow))"
      ]
    },
    {
      "cell_type": "code",
      "execution_count": null,
      "metadata": {
        "collapsed": true,
        "colab": {
          "base_uri": "https://localhost:8080/"
        },
        "id": "6SGcqY_hV0ao",
        "outputId": "88f183be-5d63-4e98-ce03-892c4c2fd312"
      },
      "outputs": [
        {
          "output_type": "stream",
          "name": "stdout",
          "text": [
            "0.167 grams per minute\n"
          ]
        }
      ],
      "source": [
        "flow = flow_rate(weight, time)\n",
        "print(\"{0:.3} grams per minute\".format(flow))"
      ]
    },
    {
      "cell_type": "markdown",
      "metadata": {
        "id": "JqWCp9hgV0ao"
      },
      "source": [
        "Wyjaśnić czemu poniższe rzucanie błędu jest porządane"
      ]
    },
    {
      "cell_type": "code",
      "execution_count": null,
      "metadata": {
        "collapsed": true,
        "id": "kndlHJSrV0ao"
      },
      "outputs": [],
      "source": [
        "try:\n",
        "    flow = flow_rate(weight, time, 3600, 2.2)\n",
        "except TypeError:\n",
        "    print(True)"
      ]
    },
    {
      "cell_type": "markdown",
      "metadata": {
        "id": "SqjMlMn8V0ao"
      },
      "source": [
        "## Zadanie 2 (Igor Sieradzki)"
      ]
    },
    {
      "cell_type": "markdown",
      "metadata": {
        "id": "fx2UwOvGV0ap"
      },
      "source": [
        "Dopisz definicje dekoratora _timeit_, który wypisze na wyjscie standardowe czas wywołania udekorowanej funckji np.\n",
        "\n",
        "```\n",
        "@timeit\n",
        "def foo(x):\n",
        "    return x**2\n",
        "    \n",
        "r = foo(2)\n",
        "```\n",
        "wypize: <br>\n",
        "    `Function foo took: 0.00001 seconds` <br>\n",
        "oraz zwróci 4"
      ]
    },
    {
      "cell_type": "code",
      "execution_count": null,
      "metadata": {
        "collapsed": true,
        "colab": {
          "base_uri": "https://localhost:8080/"
        },
        "id": "uQ0MSDxYV0ap",
        "outputId": "cd9c3bff-8de6-4ff2-a822-bb5a7f66cead"
      },
      "outputs": [
        {
          "output_type": "stream",
          "name": "stdout",
          "text": [
            "Function squares_list took 0.36976 seconds\n",
            "Function squares_comprehension took 0.36510 seconds\n",
            "Function squares_map took 0.00000 seconds\n"
          ]
        }
      ],
      "source": [
        "from time import time\n",
        "\n",
        "def timeit(func):\n",
        "    \"\"\" Wypisuje czas wywołania udekorowanej funckji \"\"\"\n",
        "    def wrapper(*args, **kwargs):\n",
        "        start_time = time()\n",
        "        result = func(*args, **kwargs)\n",
        "        end_time = time()\n",
        "        total_time = end_time - start_time\n",
        "        print(f'Function {func.__name__} took {total_time:.5f} seconds')\n",
        "    return wrapper\n",
        "\n",
        "@timeit\n",
        "def squares_list(n):\n",
        "    squares = []\n",
        "    for i in range(n):\n",
        "        squares.append(i ** 2)\n",
        "    return squares\n",
        "\n",
        "@timeit\n",
        "def squares_comprehension(n):\n",
        "    return [i ** 2 for i in range(n)]\n",
        "\n",
        "@timeit\n",
        "def squares_map(n):\n",
        "    return map(lambda x: x**2, range(n))\n",
        "\n",
        "n = 1000000\n",
        "l = squares_list(n)\n",
        "c = squares_comprehension(n)\n",
        "m = squares_map(n)"
      ]
    },
    {
      "cell_type": "markdown",
      "metadata": {
        "id": "-ARf_DpRV0ap"
      },
      "source": [
        "## Zadanie 3 (Igor Sieradzki)"
      ]
    },
    {
      "cell_type": "markdown",
      "metadata": {
        "id": "QxfcGpFbV0ap"
      },
      "source": [
        "Dopisz definicje dekoratora _derivate_ wg. instrukcji w _docstringu_"
      ]
    },
    {
      "cell_type": "code",
      "execution_count": null,
      "metadata": {
        "collapsed": true,
        "colab": {
          "base_uri": "https://localhost:8080/"
        },
        "id": "XPRDqtAwV0ap",
        "outputId": "f511ca2e-c184-4549-a7c2-4fbeb53766fa"
      },
      "outputs": [
        {
          "output_type": "stream",
          "name": "stdout",
          "text": [
            "True\n",
            "True\n",
            "True\n",
            "True\n",
            "1515.2055531274527 1515.195553131199 \t True\n",
            "1721863.1982803342 1721863.1731714199 \t True\n",
            "1161.0926970432047 1161.0826970416317 \t True\n",
            "1011084.7890377044 1011084.7720271021 \t True\n",
            "610.2637775446055 610.2537775452794 \t True\n",
            "279307.2633445263 279307.25475621247 \t True\n",
            "1984.7385135362856 1984.728513531217 \t True\n",
            "2954360.485076904 2954360.4543178757 \t True\n",
            "139.55327562698585 139.54327562687064 \t True\n",
            "14604.246430099009 14604.24432950759 \t True\n",
            "522.3296034368104 522.3196034383913 \t True\n",
            "204613.3331954479 204613.32610202875 \t True\n",
            "109.25654717152611 109.24654717155535 \t True\n",
            "8951.10769488383 8951.106051680152 \t True\n",
            "1091.7855811479967 1091.775581149171 \t True\n",
            "893980.4553985595 893980.4396952078 \t True\n",
            "393.9152107370319 393.9052107371541 \t True\n",
            "116370.99217623471 116370.98628441134 \t True\n",
            "835.5419962812448 835.5319962832401 \t True\n",
            "523585.29865741724 523585.2876097923 \t True\n",
            "430.3824106333195 430.3724106341582 \t True\n",
            "138915.3152704239 138915.30887629237 \t True\n",
            "1442.30069903424 1442.2906990385795 \t True\n",
            "1560151.8571376798 1560151.845399896 \t True\n",
            "1351.0771850356832 1351.0671850366318 \t True\n",
            "1369036.9188785553 1369036.9038621061 \t True\n",
            "1224.357162794331 1224.3471627972442 \t True\n",
            "1124269.4944143295 1124269.4812872463 \t True\n",
            "1706.7038334789686 1706.6938334807014 \t True\n",
            "2184602.892398834 2184602.8809307893 \t True\n",
            "225.07316127848753 225.06316127836024 \t True\n",
            "37990.073300898075 37990.0699234569 \t True\n",
            "547.5422502815491 547.5322502822651 \t True\n",
            "224843.6816036701 224843.67382437072 \t True\n",
            "1488.2219730177894 1488.2119730199993 \t True\n",
            "1661081.1769962308 1661081.1574800592 \t True\n",
            "1202.6506120397244 1202.640612042309 \t True\n",
            "1084758.347272873 1084758.3313001245 \t True\n",
            "1329.4442555401474 1329.4342555384974 \t True\n",
            "1325546.6043949127 1325546.579849399 \t True\n"
          ]
        }
      ],
      "source": [
        "import sys\n",
        "sys.float_info.epsilon # epsilon maszynowy\n",
        "\n",
        "\"\"\"\n",
        "Zwraca pochodną funkcji w punkcie, wg. wzoru f'(x) = [f(x+h) - f(x)]/h,\n",
        "gdzie h jest parametrem dekoratora, jeśli nie zostanie podany, należy przyjąć 1000 * epsilon maszynowy\n",
        "\"\"\"\n",
        "\n",
        "def derivate(epsilon=None):\n",
        "  if epsilon is None:\n",
        "    epsilon = 1000 * sys.float_info.epsilon\n",
        "  def decorator(func):\n",
        "    def wrapper(*args, **kwargs):\n",
        "      return (func(args[0] + epsilon) - func(args[0])) / epsilon\n",
        "    return wrapper\n",
        "  return decorator\n",
        "\n",
        "@derivate(0.01)\n",
        "def f(x):\n",
        "    return x*x\n",
        "\n",
        "@derivate(0.00001)\n",
        "def g(x):\n",
        "    return x*x*x+3\n",
        "\n",
        "def test(a, b, eps=1):\n",
        "    return abs(round(a)-round(b)) < eps\n",
        "\n",
        "print(test(f(100), 200.0))\n",
        "print(round(f(0)) == 0.0)\n",
        "\n",
        "print(test(g(100), 30000.0))\n",
        "print(round(g(0)) == 0.0)\n",
        "\n",
        "from random import random\n",
        "for x in [random()*1000. for _ in range(20)]:\n",
        "    print(f(x), 2*x, '\\t', test(f(x), 2*x))\n",
        "    print(g(x), 3*x**2, '\\t', test(g(x), 3*x**2))"
      ]
    },
    {
      "cell_type": "markdown",
      "metadata": {
        "id": "51zVIFHQV0ap"
      },
      "source": [
        "## Zadanie 4 (Igor Sieradzki)"
      ]
    },
    {
      "cell_type": "markdown",
      "metadata": {
        "id": "I0N_c7xyV0ap"
      },
      "source": [
        "Dopisz definicje dekoratora _accepts_ wg. instrukcji w _docstringu_"
      ]
    },
    {
      "cell_type": "code",
      "execution_count": null,
      "metadata": {
        "collapsed": true,
        "id": "SfKe-p2EV0ap"
      },
      "outputs": [],
      "source": [
        "def accepts(*types):\n",
        "    \"\"\"Sprawdza czy udekorowanej funckji zostały podane odpowiednie parametry zdefiniowane\n",
        "       w argumentach dekoratora\"\"\"\n",
        "    pass\n",
        "\n",
        "\n",
        "@accepts(str)\n",
        "def capitalize(word):\n",
        "    return word[0].upper() + word[1:]\n",
        "\n",
        "print(capitalize('ola') == 'Ola')\n",
        "\n",
        "try:\n",
        "    capitalize(2)\n",
        "except TypeError:\n",
        "    print(True)\n",
        "\n",
        "@accepts(float, int)\n",
        "def static_pow(base, exp):\n",
        "    return base ** exp\n",
        "\n",
        "print(static_pow(2., 2) == 4.)\n",
        "print(static_pow(2., exp=2) == 4.)\n",
        "print(static_pow(base=2., exp=2) == 4.)\n",
        "\n",
        "try:\n",
        "    static_pow('x', 10)\n",
        "except TypeError:\n",
        "    print(True)\n",
        "\n",
        "try:\n",
        "    static_pow(2, 2.2)\n",
        "except TypeError:\n",
        "    print(True)"
      ]
    },
    {
      "cell_type": "markdown",
      "metadata": {
        "id": "SsnRj6VSV0ap"
      },
      "source": [
        "## Zadanie 5 (Igor Sieradzki)"
      ]
    },
    {
      "cell_type": "markdown",
      "metadata": {
        "id": "t22PYshmV0aq"
      },
      "source": [
        "Dopisz definicje dekoratora _returns_ wg. instrukcji w _docstringu_"
      ]
    },
    {
      "cell_type": "code",
      "execution_count": null,
      "metadata": {
        "collapsed": true,
        "id": "Ib7HOReLV0aq"
      },
      "outputs": [],
      "source": [
        "def returns(*types):\n",
        "    \"\"\"Sprawdza czy udekorowana funkcja zwraca poprawne argumenty, zdefiniowane w parametrach dekoratora\"\"\"\n",
        "    pass\n",
        "\n",
        "\n",
        "@returns(str)\n",
        "def str_only_identity(word):\n",
        "    return word\n",
        "\n",
        "print(str_only_identity('hello') == 'hello')\n",
        "\n",
        "try:\n",
        "    str_only_identity(10)\n",
        "except TypeError:\n",
        "    print(True)\n",
        "\n",
        "@returns(int, int)\n",
        "def split_indices(x):\n",
        "    return x[0], x[1]\n",
        "\n",
        "print(split_indices(x=[6,9]) == (6,9))\n",
        "\n",
        "try:\n",
        "    split('AB')\n",
        "except TypeError:\n",
        "    print(True)"
      ]
    },
    {
      "cell_type": "markdown",
      "metadata": {
        "id": "mTFx6FnoV0aq"
      },
      "source": [
        "## Zadanie 6 (Igor Sieradzki)\n",
        "Stwórz dekorator cached służący do cachowania wywołań dowolnej funkcji, tzn. chcemy by:\n",
        "* wywołanie funkcji z określonymi argumentami miało miejsce tylko raz\n",
        "* funkcja mogła przyjmować dowolną liczbę nazwanych i nienazwanych argumentów\n",
        "* nie musi reagować poprawnie na domyślne argumenty, tzn. wywołanie funkcji z domyślnymi argumentami a podanie dokładnie takich samych może być traktowane jako dwa różne wywołania\n",
        "* na opakowanej funkcji można wywołać `.cache_reset()`, który usunie cache z pamięci\n",
        "* wywołanie `.cache_status()` zwraca string z opisem w postaci: <br>\n",
        "    `Function FUNCTION_NAME called X times, evaluated Y times`"
      ]
    },
    {
      "cell_type": "code",
      "execution_count": null,
      "metadata": {
        "collapsed": true,
        "id": "2Nq7pNhpV0aq"
      },
      "outputs": [],
      "source": [
        "from random import random\n",
        "\n",
        "@cached\n",
        "def foo(x, y=1, z=4):\n",
        "    return random()\n",
        "\n",
        "print(foo(3) == foo(3))\n",
        "print(foo(4) == foo(4))\n",
        "print(foo(3, z=-1, y=3) == foo(3, y=3, z=-1))\n",
        "print(foo(3) != foo(x=3))\n",
        "a = foo(3)\n",
        "foo.cache_reset()\n",
        "print(a != foo(3))\n",
        "print(foo.cache_status() == 'Function foo called 10 times, evaluated 5 times')"
      ]
    },
    {
      "cell_type": "markdown",
      "metadata": {
        "id": "1bi-f_C2V0aq"
      },
      "source": [
        "## Zadanie 7 (Krzysztof Hajto)"
      ]
    },
    {
      "cell_type": "markdown",
      "metadata": {
        "id": "O98bOM-CV0aq"
      },
      "source": [
        "Napisz dekorator który będzie robić n-krotne złożenie funkcji, gdzie n jest parametrem dekoratora"
      ]
    },
    {
      "cell_type": "code",
      "execution_count": null,
      "metadata": {
        "collapsed": true,
        "colab": {
          "base_uri": "https://localhost:8080/"
        },
        "id": "p7463DPjV0aq",
        "outputId": "182616ca-5693-4a3d-9e63-bdefede4e168"
      },
      "outputs": [
        {
          "output_type": "stream",
          "name": "stdout",
          "text": [
            "True\n",
            "True\n",
            "True\n"
          ]
        }
      ],
      "source": [
        "def zlozenie(n):\n",
        "  def decorator(func):\n",
        "    def wrapper(*args, **kwargs):\n",
        "      result = args[0]\n",
        "      for i in range(n):\n",
        "        result = func(result)\n",
        "      return result\n",
        "    return wrapper\n",
        "  return decorator\n",
        "\n",
        "@zlozenie(3)\n",
        "def f1(x):\n",
        "    return x+1\n",
        "\n",
        "@zlozenie(2)\n",
        "def f2(x):\n",
        "    return x*x\n",
        "\n",
        "@zlozenie(5)\n",
        "def f3(word):\n",
        "    return \"\".join(chr(ord(l)+1) for l in word)\n",
        "\n",
        "print(f1(2)==5)\n",
        "print(f2(3)==81)\n",
        "print(f3(\"alamakota\")==\"fqfrfptyf\")"
      ]
    },
    {
      "cell_type": "markdown",
      "metadata": {
        "id": "Q0EmpP7JV0aq"
      },
      "source": [
        "## Zadanie 8 (Krzysztof Hajto)"
      ]
    },
    {
      "cell_type": "markdown",
      "metadata": {
        "id": "Yg9aRlxAV0aq"
      },
      "source": [
        "Python nie ma wbudowanej instrukcji switch. Ale posiada anonimowe funkcje oraz słowniki. Zaimplementuj poniższy switch w postaci słownika funkcji.\n",
        "`\n",
        "int my_function(x, y) {\n",
        "\n",
        "\n",
        "    switch(x) {\n",
        "        case 1: return y*y;\n",
        "        case 2: return x+y;\n",
        "        case 3: return x*y;\n",
        "        case 4: return 0;\n",
        "    }\n",
        "}\n",
        "`\n",
        "\n",
        "PS. Nigdy nie róbcie tego w faktycznym kodzie :)"
      ]
    },
    {
      "cell_type": "code",
      "execution_count": null,
      "metadata": {
        "collapsed": true,
        "colab": {
          "base_uri": "https://localhost:8080/"
        },
        "id": "QdhZP6NmV0aq",
        "outputId": "70b6287f-0761-4df0-cb7c-939216d66efa"
      },
      "outputs": [
        {
          "output_type": "stream",
          "name": "stdout",
          "text": [
            "True\n",
            "True\n",
            "True\n",
            "True\n"
          ]
        }
      ],
      "source": [
        "def my_function(x, y):\n",
        "  switch = {\n",
        "      1: lambda: y*y,\n",
        "      2: lambda: x+y,\n",
        "      3: lambda: x*y,\n",
        "      4: lambda: 0\n",
        "    }\n",
        "  return switch[x]()\n",
        "\n",
        "print(my_function(1,3)==9)\n",
        "print(my_function(2,4)==6)\n",
        "print(my_function(3,1)==3)\n",
        "print(my_function(4,9)==0)"
      ]
    }
  ],
  "metadata": {
    "kernelspec": {
      "display_name": "Python 3",
      "language": "python",
      "name": "python3"
    },
    "language_info": {
      "codemirror_mode": {
        "name": "ipython",
        "version": 3
      },
      "file_extension": ".py",
      "mimetype": "text/x-python",
      "name": "python",
      "nbconvert_exporter": "python",
      "pygments_lexer": "ipython3",
      "version": "3.6.2"
    },
    "colab": {
      "provenance": [],
      "include_colab_link": true
    }
  },
  "nbformat": 4,
  "nbformat_minor": 0
}