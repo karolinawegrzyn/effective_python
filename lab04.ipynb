{
  "cells": [
    {
      "cell_type": "markdown",
      "metadata": {
        "id": "view-in-github",
        "colab_type": "text"
      },
      "source": [
        "<a href=\"https://colab.research.google.com/github/karolinawegrzyn/effective_python/blob/master/lab04.ipynb\" target=\"_parent\"><img src=\"https://colab.research.google.com/assets/colab-badge.svg\" alt=\"Open In Colab\"/></a>"
      ]
    },
    {
      "cell_type": "markdown",
      "metadata": {
        "id": "i8UISRT4V0al"
      },
      "source": [
        "## Lab 04"
      ]
    },
    {
      "cell_type": "markdown",
      "metadata": {
        "id": "syLEEttZV0am"
      },
      "source": [
        "## Zadanie 1 (Igor Sieradzki)"
      ]
    },
    {
      "cell_type": "markdown",
      "metadata": {
        "id": "BzqajphDV0am"
      },
      "source": [
        "Funkcja <t>flow_rate</i> do modyfikacji"
      ]
    },
    {
      "cell_type": "code",
      "execution_count": null,
      "metadata": {
        "collapsed": true,
        "id": "ubaWL7msV0am"
      },
      "outputs": [],
      "source": [
        "def flow_rate(weight, time, *, period=1, units_per_kg=1):\n",
        "    \"\"\" Funkcja wylicza ile wagi produktu przybyło/ubyło w jednostce czasu \"\"\"\n",
        "    return (weight / time) * units_per_kg / period\n",
        "\n",
        "weight = 0.5\n",
        "time = 3"
      ]
    },
    {
      "cell_type": "code",
      "execution_count": null,
      "metadata": {
        "colab": {
          "base_uri": "https://localhost:8080/"
        },
        "id": "nipEH33EV0an",
        "outputId": "08f2a08c-3cb6-4fd1-e4c7-60d953b38999"
      },
      "outputs": [
        {
          "output_type": "stream",
          "name": "stdout",
          "text": [
            "0.167 kg per second\n"
          ]
        }
      ],
      "source": [
        "flow = flow_rate(weight, time)\n",
        "print(\"{0:.3} kg per second\".format(flow))"
      ]
    },
    {
      "cell_type": "code",
      "execution_count": null,
      "metadata": {
        "collapsed": true,
        "id": "JId1XY8ZV0an"
      },
      "outputs": [],
      "source": [
        "Zmodyfikuj funckje <i>flow_rate</i> tak, aby poniższe wywołania działały poprawnie."
      ]
    },
    {
      "cell_type": "code",
      "execution_count": null,
      "metadata": {
        "colab": {
          "base_uri": "https://localhost:8080/"
        },
        "id": "rrxdJHm-V0ao",
        "outputId": "0ca8a134-e56b-48c9-9a26-b5a74b497e61"
      },
      "outputs": [
        {
          "output_type": "stream",
          "name": "stdout",
          "text": [
            "2.7777777777777777 grams per minute\n"
          ]
        }
      ],
      "source": [
        "flow = flow_rate(weight, time, period=60, units_per_kg=1000)\n",
        "print(\"{} grams per minute\".format(flow))"
      ]
    },
    {
      "cell_type": "code",
      "execution_count": null,
      "metadata": {
        "colab": {
          "base_uri": "https://localhost:8080/"
        },
        "id": "WRnu4_CVV0ao",
        "outputId": "daa5f957-b8c4-4e22-a006-fdba2a8d37ad"
      },
      "outputs": [
        {
          "output_type": "stream",
          "name": "stdout",
          "text": [
            "0.167 kg per second\n"
          ]
        }
      ],
      "source": [
        "flow = flow_rate(weight, time, period=1, units_per_kg=1)\n",
        "print(\"{0:.3} kg per second\".format(flow))"
      ]
    },
    {
      "cell_type": "code",
      "execution_count": null,
      "metadata": {
        "colab": {
          "base_uri": "https://localhost:8080/"
        },
        "id": "6SGcqY_hV0ao",
        "outputId": "1b05b8f0-cf53-4995-f2c1-fbe8f766579f"
      },
      "outputs": [
        {
          "output_type": "stream",
          "name": "stdout",
          "text": [
            "0.167 grams per minute\n"
          ]
        }
      ],
      "source": [
        "flow = flow_rate(weight, time)\n",
        "print(\"{0:.3} grams per minute\".format(flow))"
      ]
    },
    {
      "cell_type": "markdown",
      "metadata": {
        "id": "JqWCp9hgV0ao"
      },
      "source": [
        "Wyjaśnić czemu poniższe rzucanie błędu jest porządane"
      ]
    },
    {
      "cell_type": "code",
      "execution_count": null,
      "metadata": {
        "collapsed": true,
        "id": "kndlHJSrV0ao",
        "colab": {
          "base_uri": "https://localhost:8080/"
        },
        "outputId": "e4cf2c6f-9471-44e7-9bbf-64b7175739f3"
      },
      "outputs": [
        {
          "output_type": "stream",
          "name": "stdout",
          "text": [
            "True\n"
          ]
        }
      ],
      "source": [
        "try:\n",
        "    flow = flow_rate(weight, time, 3600, 2.2)\n",
        "except TypeError:\n",
        "    print(True)\n",
        "# gdyż argumenty muszą zostać przekazane z nazwą"
      ]
    },
    {
      "cell_type": "markdown",
      "metadata": {
        "id": "SqjMlMn8V0ao"
      },
      "source": [
        "## Zadanie 2 (Igor Sieradzki)"
      ]
    },
    {
      "cell_type": "markdown",
      "metadata": {
        "id": "fx2UwOvGV0ap"
      },
      "source": [
        "Dopisz definicje dekoratora _timeit_, który wypisze na wyjscie standardowe czas wywołania udekorowanej funckji np.\n",
        "\n",
        "```\n",
        "@timeit\n",
        "def foo(x):\n",
        "    return x**2\n",
        "    \n",
        "r = foo(2)\n",
        "```\n",
        "wypize: <br>\n",
        "    `Function foo took: 0.00001 seconds` <br>\n",
        "oraz zwróci 4"
      ]
    },
    {
      "cell_type": "code",
      "execution_count": null,
      "metadata": {
        "collapsed": true,
        "colab": {
          "base_uri": "https://localhost:8080/"
        },
        "id": "uQ0MSDxYV0ap",
        "outputId": "7a538051-26ed-4f8a-82db-c0f5cbeac40b"
      },
      "outputs": [
        {
          "output_type": "stream",
          "name": "stdout",
          "text": [
            "Function squares_list took 0.53798 seconds\n",
            "Function squares_comprehension took 0.41575 seconds\n",
            "Function squares_map took 0.00000 seconds\n"
          ]
        }
      ],
      "source": [
        "from time import time\n",
        "\n",
        "def timeit(func):\n",
        "    \"\"\" Wypisuje czas wywołania udekorowanej funckji \"\"\"\n",
        "    def wrapper(*args, **kwargs):\n",
        "        start_time = time()\n",
        "        result = func(*args, **kwargs)\n",
        "        end_time = time()\n",
        "        total_time = end_time - start_time\n",
        "        print(f'Function {func.__name__} took {total_time:.5f} seconds')\n",
        "    return wrapper\n",
        "\n",
        "@timeit\n",
        "def squares_list(n):\n",
        "    squares = []\n",
        "    for i in range(n):\n",
        "        squares.append(i ** 2)\n",
        "    return squares\n",
        "\n",
        "@timeit\n",
        "def squares_comprehension(n):\n",
        "    return [i ** 2 for i in range(n)]\n",
        "\n",
        "@timeit\n",
        "def squares_map(n):\n",
        "    return map(lambda x: x**2, range(n))\n",
        "\n",
        "n = 1000000\n",
        "l = squares_list(n)\n",
        "c = squares_comprehension(n)\n",
        "m = squares_map(n)"
      ]
    },
    {
      "cell_type": "markdown",
      "metadata": {
        "id": "-ARf_DpRV0ap"
      },
      "source": [
        "## Zadanie 3 (Igor Sieradzki)"
      ]
    },
    {
      "cell_type": "markdown",
      "metadata": {
        "id": "QxfcGpFbV0ap"
      },
      "source": [
        "Dopisz definicje dekoratora _derivate_ wg. instrukcji w _docstringu_"
      ]
    },
    {
      "cell_type": "code",
      "execution_count": null,
      "metadata": {
        "collapsed": true,
        "colab": {
          "base_uri": "https://localhost:8080/"
        },
        "id": "XPRDqtAwV0ap",
        "outputId": "d7b2f617-0e96-444c-b5f6-cc59349fd813"
      },
      "outputs": [
        {
          "output_type": "stream",
          "name": "stdout",
          "text": [
            "True\n",
            "True\n",
            "True\n",
            "True\n",
            "9.97362584113084 9.963625841131085 \t True\n",
            "74.45552937781486 74.45537992654135 \t True\n",
            "73.3043289744046 73.294328974431 \t True\n",
            "4029.0450953762042 4029.0439948590865 \t True\n",
            "282.960655487841 282.9506554883361 \t True\n",
            "60045.80934531986 60045.80508095931 \t True\n",
            "1532.1834065020084 1532.173406504678 \t True\n",
            "1760666.525363922 1760666.5107001122 \t True\n",
            "1309.5823799376376 1309.5723799376826 \t True\n",
            "1286234.8794937134 1286234.8637217346 \t True\n",
            "1960.6156712281518 1960.605671234851 \t True\n",
            "2882980.9665679927 2882980.948558695 \t True\n",
            "959.0270922868513 959.0170922897456 \t True\n",
            "689785.3508591652 689785.3374779089 \t True\n",
            "1078.8458446448203 1078.835844648196 \t True\n",
            "872915.0980710982 872915.0847733398 \t True\n",
            "1767.297207773663 1767.2872077757063 \t True\n",
            "2342478.084564209 2342478.056075739 \t True\n",
            "1470.8574902964756 1470.8474902952025 \t True\n",
            "1622544.2707538602 1622544.254780772 \t True\n",
            "89.30252676823329 89.29252676825472 \t True\n",
            "5979.8678441438815 5979.866502494614 \t True\n",
            "1127.9248205246404 1127.9148205310353 \t True\n",
            "954143.8937187194 954143.8817801683 \t True\n",
            "477.40675350505626 477.3967535054671 \t True\n",
            "170930.7523444295 170930.74519316974 \t True\n",
            "64.83323041545646 64.82323041546323 \t True\n",
            "3151.539374812273 3151.5384011221777 \t True\n",
            "65.83901860610695 65.82901860612145 \t True\n",
            "3250.095756811788 3250.094767983813 \t True\n",
            "164.48145898648363 164.4714589863978 \t True\n",
            "20288.148091640323 20288.145615835754 \t True\n",
            "637.272354059678 637.2623540611877 \t True\n",
            "304577.4895697832 304577.48092770495 \t True\n",
            "1649.3124477332458 1649.3024477429278 \t True\n",
            "2040148.9377021787 2040148.9230981101 \t True\n",
            "149.28234904873534 149.27234904860188 \t True\n",
            "16711.67789027095 16711.675642865725 \t True\n",
            "594.0002766466932 593.9902766473213 \t True\n",
            "264618.344604969 264618.3365636709 \t True\n"
          ]
        }
      ],
      "source": [
        "import sys\n",
        "sys.float_info.epsilon # epsilon maszynowy\n",
        "\n",
        "\"\"\"\n",
        "Zwraca pochodną funkcji w punkcie, wg. wzoru f'(x) = [f(x+h) - f(x)]/h,\n",
        "gdzie h jest parametrem dekoratora, jeśli nie zostanie podany, należy przyjąć 1000 * epsilon maszynowy\n",
        "\"\"\"\n",
        "\n",
        "def derivate(epsilon=None):\n",
        "  if epsilon is None:\n",
        "    epsilon = 1000 * sys.float_info.epsilon\n",
        "  def decorator(func):\n",
        "    def wrapper(x):\n",
        "      return (func(x + epsilon) - func(x)) / epsilon\n",
        "    return wrapper\n",
        "  return decorator\n",
        "\n",
        "@derivate(0.01)\n",
        "def f(x):\n",
        "    return x*x\n",
        "\n",
        "@derivate(0.00001)\n",
        "def g(x):\n",
        "    return x*x*x+3\n",
        "\n",
        "def test(a, b, eps=1):\n",
        "    return abs(round(a)-round(b)) < eps\n",
        "\n",
        "print(test(f(100), 200.0))\n",
        "print(round(f(0)) == 0.0)\n",
        "\n",
        "print(test(g(100), 30000.0))\n",
        "print(round(g(0)) == 0.0)\n",
        "\n",
        "from random import random\n",
        "for x in [random()*1000. for _ in range(20)]:\n",
        "    print(f(x), 2*x, '\\t', test(f(x), 2*x))\n",
        "    print(g(x), 3*x**2, '\\t', test(g(x), 3*x**2))"
      ]
    },
    {
      "cell_type": "markdown",
      "metadata": {
        "id": "51zVIFHQV0ap"
      },
      "source": [
        "## Zadanie 4 (Igor Sieradzki)"
      ]
    },
    {
      "cell_type": "markdown",
      "metadata": {
        "id": "I0N_c7xyV0ap"
      },
      "source": [
        "Dopisz definicje dekoratora _accepts_ wg. instrukcji w _docstringu_"
      ]
    },
    {
      "cell_type": "code",
      "execution_count": null,
      "metadata": {
        "collapsed": true,
        "id": "SfKe-p2EV0ap",
        "colab": {
          "base_uri": "https://localhost:8080/"
        },
        "outputId": "23c07dba-547f-4c5c-fb8c-0e51be0b1506"
      },
      "outputs": [
        {
          "output_type": "stream",
          "name": "stdout",
          "text": [
            "True\n",
            "True\n",
            "True\n",
            "True\n",
            "True\n",
            "True\n",
            "True\n"
          ]
        }
      ],
      "source": [
        "\"\"\"Sprawdza czy udekorowanej funckji zostały podane odpowiednie parametry zdefiniowane\n",
        "       w argumentach dekoratora\"\"\"\n",
        "def accepts(*types):\n",
        "  def decorator(func):\n",
        "    def wrapper(*args, **kwargs):\n",
        "      for i in range(len(args)):\n",
        "        if not isinstance(args[i], types[i]):\n",
        "          raise TypeError\n",
        "      return func(*args, **kwargs)\n",
        "    return wrapper\n",
        "  return decorator\n",
        "\n",
        "\n",
        "@accepts(str)\n",
        "def capitalize(word):\n",
        "    return word[0].upper() + word[1:]\n",
        "\n",
        "print(capitalize('ola') == 'Ola')\n",
        "\n",
        "try:\n",
        "    capitalize(2)\n",
        "except TypeError:\n",
        "    print(True)\n",
        "\n",
        "@accepts(float, int)\n",
        "def static_pow(base, exp):\n",
        "    return base ** exp\n",
        "\n",
        "print(static_pow(2., 2) == 4.)\n",
        "print(static_pow(2., exp=2) == 4.)\n",
        "print(static_pow(base=2., exp=2) == 4.)\n",
        "\n",
        "try:\n",
        "    static_pow('x', 10)\n",
        "except TypeError:\n",
        "    print(True)\n",
        "\n",
        "try:\n",
        "    static_pow(2, 2.2)\n",
        "except TypeError:\n",
        "    print(True)"
      ]
    },
    {
      "cell_type": "markdown",
      "metadata": {
        "id": "SsnRj6VSV0ap"
      },
      "source": [
        "## Zadanie 5 (Igor Sieradzki)"
      ]
    },
    {
      "cell_type": "markdown",
      "metadata": {
        "id": "t22PYshmV0aq"
      },
      "source": [
        "Dopisz definicje dekoratora _returns_ wg. instrukcji w _docstringu_"
      ]
    },
    {
      "cell_type": "code",
      "execution_count": null,
      "metadata": {
        "collapsed": true,
        "id": "Ib7HOReLV0aq",
        "colab": {
          "base_uri": "https://localhost:8080/"
        },
        "outputId": "bf3b1cb6-a773-4e54-c451-f36aca06b4cc"
      },
      "outputs": [
        {
          "output_type": "stream",
          "name": "stdout",
          "text": [
            "True\n",
            "True\n",
            "True\n",
            "True\n"
          ]
        }
      ],
      "source": [
        "\"\"\"Sprawdza czy udekorowana funkcja zwraca poprawne argumenty, zdefiniowane w parametrach dekoratora\"\"\"\n",
        "def returns(*types):\n",
        "  def decorator(func):\n",
        "    def wrapper(*args, **kwargs):\n",
        "      result = func(*args, **kwargs)\n",
        "      for i in range(len(types)):\n",
        "        if not isinstance(result[i], types[i]):\n",
        "          raise TypeError\n",
        "      return result\n",
        "    return wrapper\n",
        "  return decorator\n",
        "\n",
        "\n",
        "@returns(str)\n",
        "def str_only_identity(word):\n",
        "    return word\n",
        "\n",
        "print(str_only_identity('hello') == 'hello')\n",
        "\n",
        "try:\n",
        "    str_only_identity(10)\n",
        "except TypeError:\n",
        "    print(True)\n",
        "\n",
        "@returns(int, int)\n",
        "def split_indices(x):\n",
        "    return x[0], x[1]\n",
        "\n",
        "print(split_indices(x=[6,9]) == (6,9))\n",
        "\n",
        "try:\n",
        "    split_indices('AB')\n",
        "except TypeError:\n",
        "    print(True)"
      ]
    },
    {
      "cell_type": "markdown",
      "metadata": {
        "id": "mTFx6FnoV0aq"
      },
      "source": [
        "## Zadanie 6 (Igor Sieradzki)\n",
        "Stwórz dekorator cached służący do cachowania wywołań dowolnej funkcji, tzn. chcemy by:\n",
        "* wywołanie funkcji z określonymi argumentami miało miejsce tylko raz\n",
        "* funkcja mogła przyjmować dowolną liczbę nazwanych i nienazwanych argumentów\n",
        "* nie musi reagować poprawnie na domyślne argumenty, tzn. wywołanie funkcji z domyślnymi argumentami a podanie dokładnie takich samych może być traktowane jako dwa różne wywołania\n",
        "* na opakowanej funkcji można wywołać `.cache_reset()`, który usunie cache z pamięci\n",
        "* wywołanie `.cache_status()` zwraca string z opisem w postaci: <br>\n",
        "    `Function FUNCTION_NAME called X times, evaluated Y times`"
      ]
    },
    {
      "cell_type": "code",
      "execution_count": null,
      "metadata": {
        "collapsed": true,
        "id": "2Nq7pNhpV0aq"
      },
      "outputs": [],
      "source": [
        "from random import random\n",
        "\n",
        "@cached\n",
        "def foo(x, y=1, z=4):\n",
        "    return random()\n",
        "\n",
        "print(foo(3) == foo(3))\n",
        "print(foo(4) == foo(4))\n",
        "print(foo(3, z=-1, y=3) == foo(3, y=3, z=-1))\n",
        "print(foo(3) != foo(x=3))\n",
        "a = foo(3)\n",
        "foo.cache_reset()\n",
        "print(a != foo(3))\n",
        "print(foo.cache_status() == 'Function foo called 10 times, evaluated 5 times')"
      ]
    },
    {
      "cell_type": "markdown",
      "metadata": {
        "id": "1bi-f_C2V0aq"
      },
      "source": [
        "## Zadanie 7 (Krzysztof Hajto)"
      ]
    },
    {
      "cell_type": "markdown",
      "metadata": {
        "id": "O98bOM-CV0aq"
      },
      "source": [
        "Napisz dekorator który będzie robić n-krotne złożenie funkcji, gdzie n jest parametrem dekoratora"
      ]
    },
    {
      "cell_type": "code",
      "execution_count": null,
      "metadata": {
        "collapsed": true,
        "colab": {
          "base_uri": "https://localhost:8080/"
        },
        "id": "p7463DPjV0aq",
        "outputId": "0ed5dd8e-01cc-45dc-d042-274e125fafa5"
      },
      "outputs": [
        {
          "output_type": "stream",
          "name": "stdout",
          "text": [
            "True\n",
            "True\n",
            "True\n"
          ]
        }
      ],
      "source": [
        "def zlozenie(n):\n",
        "  def decorator(func):\n",
        "    def wrapper(*args, **kwargs):\n",
        "      result = args[0]\n",
        "      for i in range(n):\n",
        "        result = func(result)\n",
        "      return result\n",
        "    return wrapper\n",
        "  return decorator\n",
        "\n",
        "@zlozenie(3)\n",
        "def f1(x):\n",
        "    return x+1\n",
        "\n",
        "@zlozenie(2)\n",
        "def f2(x):\n",
        "    return x*x\n",
        "\n",
        "@zlozenie(5)\n",
        "def f3(word):\n",
        "    return \"\".join(chr(ord(l)+1) for l in word)\n",
        "\n",
        "print(f1(2)==5)\n",
        "print(f2(3)==81)\n",
        "print(f3(\"alamakota\")==\"fqfrfptyf\")"
      ]
    },
    {
      "cell_type": "markdown",
      "metadata": {
        "id": "Q0EmpP7JV0aq"
      },
      "source": [
        "## Zadanie 8 (Krzysztof Hajto)"
      ]
    },
    {
      "cell_type": "markdown",
      "metadata": {
        "id": "Yg9aRlxAV0aq"
      },
      "source": [
        "Python nie ma wbudowanej instrukcji switch. Ale posiada anonimowe funkcje oraz słowniki. Zaimplementuj poniższy switch w postaci słownika funkcji.\n",
        "`\n",
        "int my_function(x, y) {\n",
        "\n",
        "\n",
        "    switch(x) {\n",
        "        case 1: return y*y;\n",
        "        case 2: return x+y;\n",
        "        case 3: return x*y;\n",
        "        case 4: return 0;\n",
        "    }\n",
        "}\n",
        "`\n",
        "\n",
        "PS. Nigdy nie róbcie tego w faktycznym kodzie :)"
      ]
    },
    {
      "cell_type": "code",
      "execution_count": null,
      "metadata": {
        "collapsed": true,
        "colab": {
          "base_uri": "https://localhost:8080/"
        },
        "id": "QdhZP6NmV0aq",
        "outputId": "fe986cb2-1acf-44e8-ab5c-02a5c6c05c50"
      },
      "outputs": [
        {
          "output_type": "stream",
          "name": "stdout",
          "text": [
            "True\n",
            "True\n",
            "True\n",
            "True\n"
          ]
        }
      ],
      "source": [
        "def my_function(x, y):\n",
        "  switch = {\n",
        "      1: lambda: y*y,\n",
        "      2: lambda: x+y,\n",
        "      3: lambda: x*y,\n",
        "      4: lambda: 0\n",
        "    }\n",
        "  return switch[x]()\n",
        "\n",
        "print(my_function(1,3)==9)\n",
        "print(my_function(2,4)==6)\n",
        "print(my_function(3,1)==3)\n",
        "print(my_function(4,9)==0)"
      ]
    }
  ],
  "metadata": {
    "kernelspec": {
      "display_name": "Python 3",
      "language": "python",
      "name": "python3"
    },
    "language_info": {
      "codemirror_mode": {
        "name": "ipython",
        "version": 3
      },
      "file_extension": ".py",
      "mimetype": "text/x-python",
      "name": "python",
      "nbconvert_exporter": "python",
      "pygments_lexer": "ipython3",
      "version": "3.6.2"
    },
    "colab": {
      "provenance": [],
      "include_colab_link": true
    }
  },
  "nbformat": 4,
  "nbformat_minor": 0
}