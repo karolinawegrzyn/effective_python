{
  "cells": [
    {
      "cell_type": "markdown",
      "metadata": {
        "id": "hMLnpen_-DME"
      },
      "source": [
        "## Lab 02"
      ]
    },
    {
      "cell_type": "markdown",
      "metadata": {
        "id": "rkQ5VJLd-DMG"
      },
      "source": [
        "### Zadanie 1"
      ]
    },
    {
      "cell_type": "markdown",
      "metadata": {
        "id": "dWgzjc-s-DMG"
      },
      "source": [
        "Dwa napisy są anagramami, jeśli jesteśmy w stanie w taki sposób poprzestawiać litery w jednym napisie, aby uzyskać drugi (nie możemy żadnej litery się pozbyć ani dodać). Przykładowo:\n",
        "\n",
        "  * abcd i dcba są anagramami\n",
        "  * aba i baa są anagramami\n",
        "  * aba i ba nie są anagramami  \n",
        "\n",
        "Zaimplementuj poniższą funkcja tak, aby sprawdzała czy dwa słowa są anagramamy w iterując po każdym słownie maksymalnie raz."
      ]
    },
    {
      "cell_type": "code",
      "execution_count": 2,
      "metadata": {
        "id": "jWVV8MsD-DMH",
        "outputId": "a782ef20-d92d-4636-d488-9c980a56bd5b",
        "colab": {
          "base_uri": "https://localhost:8080/"
        }
      },
      "outputs": [
        {
          "output_type": "stream",
          "name": "stdout",
          "text": [
            "True\n",
            "True\n",
            "True\n",
            "True\n"
          ]
        }
      ],
      "source": [
        "def check_anagram(first, second):\n",
        "  return sorted(first.replace(\" \", \"\")) == sorted(second.replace(\" \", \"\"))\n",
        "\n",
        "print(check_anagram(\"abcd\", \"dcba\") == True)\n",
        "print(check_anagram(\"aba\", \"baa\") == True)\n",
        "print(check_anagram(\"aba\", \"ba\") == False)\n",
        "print(check_anagram(\"tom marvolo riddle \", \"i am lord voldemort\") == True)"
      ]
    },
    {
      "cell_type": "markdown",
      "metadata": {
        "id": "Vv4ZHv1d-DMH"
      },
      "source": [
        "### Zadanie 2"
      ]
    },
    {
      "cell_type": "code",
      "execution_count": 3,
      "metadata": {
        "id": "B8N7M04y-DMH",
        "outputId": "6f1d1166-e770-4a60-c3af-07387d6416ed",
        "colab": {
          "base_uri": "https://localhost:8080/"
        }
      },
      "outputs": [
        {
          "output_type": "stream",
          "name": "stdout",
          "text": [
            "True\n",
            "True\n"
          ]
        }
      ],
      "source": [
        "def gaderypoluki(text, key):\n",
        "  key = key.lower()\n",
        "  text = text.lower()\n",
        "  for i in range(0, len(key), 2):\n",
        "    text = text.replace(key[i], key[i+1].upper())\n",
        "    text = text.replace(key[i+1], key[i].upper())\n",
        "  return text.lower()\n",
        "\n",
        "print(gaderypoluki('Ala ma kota', 'GADERYPOLUKI') == 'gug mg iptg')\n",
        "print(gaderypoluki('gug mg iptg', 'GADERYPOLUKI') == 'ala ma kota')"
      ]
    },
    {
      "cell_type": "markdown",
      "metadata": {
        "id": "XTFa0Zzg-DMI"
      },
      "source": [
        "### Zadanie 3"
      ]
    },
    {
      "cell_type": "markdown",
      "metadata": {
        "id": "r71ath_V-DMI"
      },
      "source": [
        "#### Comprehensions\n",
        "Zapisz każdą z poniższych 4 funkcji w postaci list/dict/set comprehension. Nie należy używać żadnych zmiennych tymczasowych ani dodatkowych linii, każda funkcja ma zostać wyrażona w postaci: <br>\n",
        "```\n",
        "def FUNKCJA(ARGUMENTY):\n",
        "    return COMPREHENSION\n",
        "```"
      ]
    },
    {
      "cell_type": "code",
      "execution_count": 4,
      "metadata": {
        "id": "ZVFWwUna-DMI",
        "outputId": "59eaab9b-87e0-43a0-bc34-1e2adab26587",
        "colab": {
          "base_uri": "https://localhost:8080/"
        }
      },
      "outputs": [
        {
          "output_type": "stream",
          "name": "stdout",
          "text": [
            "True\n",
            "True\n",
            "True\n",
            "True\n"
          ]
        }
      ],
      "source": [
        "def even_numbers_from_list(data):\n",
        "    return [i for i in data if i % 2 == 0]\n",
        "\n",
        "print(even_numbers_from_list([1, 2, 3, 4]) == [2, 4])\n",
        "print(even_numbers_from_list(range(10)) == list(range(0, 10, 2)))\n",
        "print(even_numbers_from_list(range(1000)) == list(range(0, 1000, 2)))\n",
        "print(even_numbers_from_list([10, 2, 3, 4, 6, -3, -4]) == [10, 2, 4, 6, -4])"
      ]
    },
    {
      "cell_type": "code",
      "execution_count": 5,
      "metadata": {
        "id": "IzrMUNfY-DMI",
        "outputId": "f2527265-6096-4e31-90b7-6a82832c6054",
        "colab": {
          "base_uri": "https://localhost:8080/"
        }
      },
      "outputs": [
        {
          "output_type": "stream",
          "name": "stdout",
          "text": [
            "True\n",
            "True\n"
          ]
        }
      ],
      "source": [
        "def words_analyze(words):\n",
        "    return [(i, words[i], len(words[i])) for i in range(len(words))]\n",
        "\n",
        "print(words_analyze(['tomek', 'jadzia']) == [(0, 'tomek', 5), (1, 'jadzia', 6)])\n",
        "print(words_analyze([]) == [])"
      ]
    },
    {
      "cell_type": "code",
      "execution_count": 6,
      "metadata": {
        "id": "visFug3w-DMJ",
        "outputId": "e861072d-5d88-458e-df87-8a49e34f7835",
        "colab": {
          "base_uri": "https://localhost:8080/"
        }
      },
      "outputs": [
        {
          "output_type": "stream",
          "name": "stdout",
          "text": [
            "True\n",
            "True\n",
            "True\n"
          ]
        }
      ],
      "source": [
        "def count_words_starting_with_given_letter(text, letter):\n",
        "    return {word: text.split().count(word) for word in text.split() if word[0] == letter}\n",
        "\n",
        "print(count_words_starting_with_given_letter('ola ma kota o imieniu ola', 'o') == {'ola': 2, 'o': 1})\n",
        "print(count_words_starting_with_given_letter('ola ma kota o imieniu ola', 'k') == {'kota': 1})\n",
        "print(count_words_starting_with_given_letter('ola ma kota o imieniu ola', 'x') == {})"
      ]
    },
    {
      "cell_type": "markdown",
      "metadata": {
        "id": "ysCoCbZz-DMJ"
      },
      "source": [
        "### Zadanie 4"
      ]
    },
    {
      "cell_type": "code",
      "execution_count": 9,
      "metadata": {
        "id": "dgN0WQGT-DMJ",
        "outputId": "b66579dc-3439-41ca-fd8d-52cf60ea7cac",
        "colab": {
          "base_uri": "https://localhost:8080/"
        }
      },
      "outputs": [
        {
          "output_type": "stream",
          "name": "stdout",
          "text": [
            "True\n",
            "True\n",
            "True\n"
          ]
        }
      ],
      "source": [
        "def merge_dicts(a, b, f):\n",
        "  return {key: f(a[key], b[key]) if key in a and key in b else a.get(key, b.get(key)) for key in set(a) | set(b)}\n",
        "\n",
        "def add(a,b):\n",
        "    return a + b\n",
        "\n",
        "print(merge_dicts({'a': 1}, {'b': 1}, add) == {'b': 1, 'a': 1})\n",
        "print(merge_dicts({'a': 1, 'b': 2}, {'b': 1}, add) == {'b': 3, 'a': 1})\n",
        "print(merge_dicts({'a': 1, 'b': 2}, {'b': 1, 'c': 3, 'a': 7}, add) == {'c': 3, 'b': 3, 'a': 8})"
      ]
    },
    {
      "cell_type": "markdown",
      "metadata": {
        "id": "RD7wR1Wo-DMJ"
      },
      "source": [
        "### Zadanie 5"
      ]
    },
    {
      "cell_type": "markdown",
      "metadata": {
        "id": "IXhMqQeM-DMJ"
      },
      "source": [
        "#### _Primes_ ponownie\n",
        "Zaimplementuj funckje z poprzednich ćwiczeń za pomocą _set comperhension_, tak aby cała jej implementacja zmieściła się w jednej linii (jak w powyższych zadaniach)"
      ]
    },
    {
      "cell_type": "code",
      "execution_count": 13,
      "metadata": {
        "id": "e-_BaGFa-DMJ",
        "outputId": "e29efa68-beb0-4eeb-97ee-9f43ae73b66b",
        "colab": {
          "base_uri": "https://localhost:8080/"
        }
      },
      "outputs": [
        {
          "output_type": "stream",
          "name": "stdout",
          "text": [
            "True\n",
            "True\n",
            "True\n"
          ]
        }
      ],
      "source": [
        "from math import sqrt\n",
        "\n",
        "def primes(N):\n",
        "  return {i for i in range(2, N + 1) if all(i % j != 0 for j in range(2, int(sqrt(i)) + 1))}\n",
        "\n",
        "\n",
        "print(primes(5) == {2, 3, 5})\n",
        "print(primes(10) == {2, 3, 5, 7})\n",
        "print(primes(100) == {2, 3, 5, 7, 11, 13, 17, 19, 23, 29, 31, 37, 41, 43, 47, 53, 59, 61, 67, 71, 73, 79, 83, 89, 97})"
      ]
    },
    {
      "cell_type": "markdown",
      "metadata": {
        "id": "3lXhg-4t-DMJ"
      },
      "source": [
        "### Zadanie 6"
      ]
    },
    {
      "cell_type": "markdown",
      "metadata": {
        "id": "NRHWtlje-DMK"
      },
      "source": [
        "Wykorzystując znieżdzenia generatorów list ([https://www.python.org/dev/peps/pep-0202/](https://www.python.org/dev/peps/pep-0202/))  napisz funkcje, która\n",
        "* wypisze wszystkie pary (x,y) gdzie 0 < x < n oraz 0 < y < n"
      ]
    },
    {
      "cell_type": "code",
      "execution_count": 14,
      "metadata": {
        "id": "1mrCOQ3U-DMK"
      },
      "outputs": [],
      "source": [
        "def func1(n):\n",
        "  return [(x, y) for x in range(n) for y in range(n)]"
      ]
    },
    {
      "cell_type": "code",
      "execution_count": 15,
      "metadata": {
        "id": "MzblGNiE-DMK",
        "outputId": "60126fa5-2f7d-4da9-adfb-a7c023b5b713",
        "colab": {
          "base_uri": "https://localhost:8080/"
        }
      },
      "outputs": [
        {
          "output_type": "stream",
          "name": "stdout",
          "text": [
            "True\n",
            "True\n"
          ]
        }
      ],
      "source": [
        "print(func1(3)==[(0, 0), (0, 1), (0, 2), (1, 0), (1, 1), (1, 2), (2, 0), (2, 1), (2, 2)])\n",
        "print(func1(0)==[])"
      ]
    },
    {
      "cell_type": "markdown",
      "metadata": {
        "id": "XWjcvSwv-DMK"
      },
      "source": [
        "* wypisze tylko takie pary dla których x < y"
      ]
    },
    {
      "cell_type": "code",
      "execution_count": null,
      "metadata": {
        "id": "exnZv9Qt-DMK"
      },
      "outputs": [],
      "source": [
        "def func2(n):\n",
        "  return [(x, y) for x in range(n) for y in range(n) if x < y]"
      ]
    },
    {
      "cell_type": "code",
      "execution_count": null,
      "metadata": {
        "id": "sjUAsCWu-DMK"
      },
      "outputs": [],
      "source": [
        "print(func2(3)==[(0, 1), (0, 2), (1, 2)])\n",
        "print(func2(4)==[(0, 1), (0, 2), (0, 3), (1, 2), (1, 3), (2, 3)])"
      ]
    },
    {
      "cell_type": "markdown",
      "metadata": {
        "id": "nB5ii33D-DMK"
      },
      "source": [
        "* wypisze tylko takie pary dla których x > y"
      ]
    },
    {
      "cell_type": "code",
      "execution_count": 16,
      "metadata": {
        "id": "uWqR9zNw-DML"
      },
      "outputs": [],
      "source": [
        "def func3(n):\n",
        "  return [(x, y) for x in range(n) for y in range(n) if x > y]"
      ]
    },
    {
      "cell_type": "code",
      "execution_count": 17,
      "metadata": {
        "id": "gPqmoRXr-DML",
        "outputId": "d0c123bd-52ed-4b83-e529-f9db4a358204",
        "colab": {
          "base_uri": "https://localhost:8080/"
        }
      },
      "outputs": [
        {
          "output_type": "stream",
          "name": "stdout",
          "text": [
            "True\n",
            "True\n"
          ]
        }
      ],
      "source": [
        "print(func3(3)==[(1, 0), (2, 0), (2, 1)])\n",
        "print(func3(4)==[(1, 0), (2, 0), (2, 1), (3, 0), (3, 1), (3, 2)])"
      ]
    },
    {
      "cell_type": "markdown",
      "metadata": {
        "id": "6LMpl8mv-DML"
      },
      "source": [
        "### Zadanie 7"
      ]
    },
    {
      "cell_type": "markdown",
      "metadata": {
        "id": "MvvHSFqJ-DML"
      },
      "source": [
        "Napisz funkcję `powerset`, która zwróci listę wszystkich podzbiorów zadanej listy przekazanej jako argument"
      ]
    },
    {
      "cell_type": "code",
      "execution_count": 18,
      "metadata": {
        "id": "e-hq7Mke-DML"
      },
      "outputs": [],
      "source": [
        "def powerset(x):\n",
        "  res = [[]]\n",
        "  for i in x:\n",
        "    for j in range(0, len(res)):\n",
        "       res.append(res[j] + [i])\n",
        "  return res"
      ]
    },
    {
      "cell_type": "code",
      "execution_count": 19,
      "metadata": {
        "id": "67pPHxOL-DML",
        "outputId": "c72aab43-3139-4d90-98fa-e79c40ea346a",
        "colab": {
          "base_uri": "https://localhost:8080/"
        }
      },
      "outputs": [
        {
          "output_type": "stream",
          "name": "stdout",
          "text": [
            "True\n",
            "True\n",
            "True\n"
          ]
        }
      ],
      "source": [
        "print(powerset('abc')==[[], ['a'], ['b'], ['a', 'b'], ['c'], ['a', 'c'], ['b', 'c'], ['a', 'b', 'c']])\n",
        "print(powerset([1, 2, 3])==[[], [1], [2], [1, 2], [3], [1, 3], [2, 3], [1, 2, 3]])\n",
        "print(powerset(['abc', 5, 6])==[[], ['abc'], [5], ['abc', 5], [6], ['abc', 6], [5, 6], ['abc', 5, 6]])"
      ]
    },
    {
      "cell_type": "markdown",
      "metadata": {
        "id": "_wLWV4nr-DML"
      },
      "source": [
        "### Zadanie 8"
      ]
    },
    {
      "cell_type": "markdown",
      "metadata": {
        "id": "pTRFz2KL-DMM"
      },
      "source": [
        "Napisz funkcję primes jeszcze raz, tym razem jednak nie wolno Ci użyć pętli (`for`, `while`, etc.) i operatorów `>=`, `<=`"
      ]
    },
    {
      "cell_type": "code",
      "execution_count": 20,
      "metadata": {
        "id": "KUegQQ6L-DMM",
        "outputId": "2ef9a3bd-d5b8-4ade-acca-8a738ba1b08c",
        "colab": {
          "base_uri": "https://localhost:8080/"
        }
      },
      "outputs": [
        {
          "output_type": "stream",
          "name": "stdout",
          "text": [
            "True\n",
            "True\n",
            "True\n"
          ]
        }
      ],
      "source": [
        "def primes_extra_b(N):\n",
        "  return set(filter(is_prime, range(2, N + 1)))\n",
        "\n",
        "def is_prime(n):\n",
        "  if n < 2:\n",
        "    return False\n",
        "  return all(n % i != 0 for i in range(2, int(sqrt(n)) + 1))\n",
        "\n",
        "print(primes_extra_b(5) == {2, 3, 5})\n",
        "print(primes_extra_b(10) == {2, 3, 5, 7})\n",
        "print(primes_extra_b(100) == {2, 3, 5, 7, 11, 13, 17, 19, 23, 29, 31, 37, 41, 43, 47, 53, 59, 61, 67, 71, 73, 79, 83, 89, 97})"
      ]
    },
    {
      "cell_type": "code",
      "execution_count": null,
      "metadata": {
        "id": "9SOVK-Hf-DMM"
      },
      "outputs": [],
      "source": []
    }
  ],
  "metadata": {
    "kernelspec": {
      "display_name": "Python 3",
      "language": "python",
      "name": "python3"
    },
    "language_info": {
      "codemirror_mode": {
        "name": "ipython",
        "version": 3
      },
      "file_extension": ".py",
      "mimetype": "text/x-python",
      "name": "python",
      "nbconvert_exporter": "python",
      "pygments_lexer": "ipython3",
      "version": "3.6.4"
    },
    "colab": {
      "provenance": []
    }
  },
  "nbformat": 4,
  "nbformat_minor": 0
}