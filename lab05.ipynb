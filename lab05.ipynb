{
  "cells": [
    {
      "cell_type": "markdown",
      "metadata": {
        "id": "view-in-github",
        "colab_type": "text"
      },
      "source": [
        "<a href=\"https://colab.research.google.com/github/karolinawegrzyn/effective_python/blob/master/lab05.ipynb\" target=\"_parent\"><img src=\"https://colab.research.google.com/assets/colab-badge.svg\" alt=\"Open In Colab\"/></a>"
      ]
    },
    {
      "cell_type": "markdown",
      "metadata": {
        "id": "a-8DDBIHjALU"
      },
      "source": [
        "## Lab 05"
      ]
    },
    {
      "cell_type": "markdown",
      "metadata": {
        "id": "BFM6O5pFjALV"
      },
      "source": [
        "#### Elementy programowania funkcyjnego\n",
        "Zaimplementuj poniższe funkcje tak, aby działały identycznie jak ich wbudowane opdowiedniki. Pamiętaj, że w Pythonie3 te funkcje zwracają generatory. W razie wątpliwości co do nietypowego zachowania tych funkcji odsyłam do <a href=\"https://docs.python.org/3/library/functions.html\">dokumentacji</a>."
      ]
    },
    {
      "cell_type": "markdown",
      "metadata": {
        "id": "kcxHId1ZjALV"
      },
      "source": [
        "## Zadanie 1"
      ]
    },
    {
      "cell_type": "code",
      "execution_count": null,
      "metadata": {
        "colab": {
          "base_uri": "https://localhost:8080/"
        },
        "id": "WEC6das9jALW",
        "outputId": "65991177-a23a-4665-8373-c13fece34031"
      },
      "outputs": [
        {
          "output_type": "stream",
          "name": "stdout",
          "text": [
            "True\n",
            "True\n",
            "True\n",
            "True\n",
            "True\n"
          ]
        }
      ],
      "source": [
        "def _filter(func=None, iterable=[]):\n",
        "  \"\"\"Filtruje z iterable elementy, dla których funkcja func zwraca False zostawiając pozostałe\"\"\"\n",
        "  if func is None:\n",
        "    func = lambda x: x\n",
        "  for elem in iterable:\n",
        "    if func(elem):\n",
        "      yield elem\n",
        "\n",
        "from types import GeneratorType\n",
        "print(isinstance(_filter(), GeneratorType))\n",
        "print(list(filter(lambda x: x > 0, [0, -3, 1, 6])) == list(_filter(lambda x: x > 0, [0, -3, 1, 6])))\n",
        "print(list(filter(None, [2, -3, 1, 6])) == list(_filter(None, [2, -3, 1, 6])))\n",
        "print(list(filter(None, [True, False, False])) == list(_filter(None, [True, False, False])))\n",
        "print(list(filter(None, [0, -3, 1, 6])) == list(_filter(None, [0, -3, 1, 6])))"
      ]
    },
    {
      "cell_type": "markdown",
      "metadata": {
        "id": "TrfrE9rnjALW"
      },
      "source": [
        "## Zadanie 2"
      ]
    },
    {
      "cell_type": "code",
      "execution_count": null,
      "metadata": {
        "colab": {
          "base_uri": "https://localhost:8080/"
        },
        "id": "KVs04GprjALW",
        "outputId": "fedaaba5-6677-4fd9-d635-b141ecc4cbba"
      },
      "outputs": [
        {
          "output_type": "stream",
          "name": "stdout",
          "text": [
            "True\n",
            "True\n",
            "True\n"
          ]
        }
      ],
      "source": [
        "def _map(func, iterable, *args):\n",
        "  \"\"\"Mapuje elementy iterable na wartości fuknckji func\"\"\"\n",
        "  for elem in zip(iterable, *args):\n",
        "    yield func(*elem)\n",
        "\n",
        "\n",
        "from types import GeneratorType\n",
        "print(isinstance(_map(None, None), GeneratorType))\n",
        "print(list(map(lambda x: x.upper(), 'ala ma kota')) == list(_map(lambda x: x.upper(), 'ala ma kota')))\n",
        "print(list(map(lambda x,y: x+y, [1,2,3,4], [5,6,7,8])) == list(_map(lambda x,y: x+y, [1,2,3,4], [5,6,7,8])))"
      ]
    },
    {
      "cell_type": "markdown",
      "metadata": {
        "id": "JviZi8-BjALX"
      },
      "source": [
        "## Zadanie 3"
      ]
    },
    {
      "cell_type": "markdown",
      "metadata": {
        "id": "LiVtZGhBjALX"
      },
      "source": [
        "Napisz poniższą funkcję korzystając wyłącznie z funkcji reduce, map i filter oraz lambd"
      ]
    },
    {
      "cell_type": "code",
      "execution_count": null,
      "metadata": {
        "colab": {
          "base_uri": "https://localhost:8080/"
        },
        "id": "TPt0VVgpjALX",
        "outputId": "5d5a5f94-4397-4fbd-c78e-583f0dc5d7ea"
      },
      "outputs": [
        {
          "output_type": "stream",
          "name": "stdout",
          "text": [
            "True\n",
            "True\n"
          ]
        }
      ],
      "source": [
        "def reverse_nonpalindromes(words):\n",
        "  \"\"\"Zwraca listę odwróconych słowa które nie są palindromami.\n",
        "  Palindromy zostają pominięte\"\"\"\n",
        "  return list(map(lambda x: x[::-1], filter(lambda x: x != x[::-1], words)))\n",
        "\n",
        "\n",
        "print(reverse_nonpalindromes([\"aa\", \"ab\"])==[\"ba\"])\n",
        "print(reverse_nonpalindromes([\"eht\", \"dog\", \"ala\"])==[\"the\", \"god\"])"
      ]
    },
    {
      "cell_type": "markdown",
      "metadata": {
        "id": "t30KEz3TjALX"
      },
      "source": [
        "## Zadanie 4"
      ]
    },
    {
      "cell_type": "markdown",
      "metadata": {
        "id": "filRgnTnjALX"
      },
      "source": [
        "Przepisz poniższą funkcję korzystając wyłącznie z funkcji reduce, map i filter oraz lambd"
      ]
    },
    {
      "cell_type": "code",
      "execution_count": null,
      "metadata": {
        "colab": {
          "base_uri": "https://localhost:8080/"
        },
        "id": "wQr_EP_yjALX",
        "outputId": "2e86fa88-8735-472d-d56a-2b47e74aab69"
      },
      "outputs": [
        {
          "output_type": "stream",
          "name": "stdout",
          "text": [
            "True\n",
            "True\n"
          ]
        }
      ],
      "source": [
        "from functools import reduce\n",
        "\n",
        "def squares_of_odds(values):\n",
        "  \"\"\"Zwraca sumę kwadratów nieparzystych liczb\"\"\"\n",
        "  return reduce(lambda x,y: x+y, map(lambda x: x*x, filter(lambda x: x % 2 != 0, values)))\n",
        "\n",
        "\n",
        "print(squares_of_odds([1,2,3,4,5,6])==35)\n",
        "print(squares_of_odds([10, 13, 5, 6])==194)"
      ]
    },
    {
      "cell_type": "markdown",
      "metadata": {
        "id": "Yee1gNSfjALX"
      },
      "source": [
        "## Zadanie 5"
      ]
    },
    {
      "cell_type": "markdown",
      "metadata": {
        "id": "H8mdVC0SjALY"
      },
      "source": [
        "Przepisz poniższą funkcję korzystając wyłącznie z funkcji reduce, map i filter oraz lambd"
      ]
    },
    {
      "cell_type": "code",
      "execution_count": null,
      "metadata": {
        "colab": {
          "base_uri": "https://localhost:8080/"
        },
        "id": "xxljMFcTjALY",
        "outputId": "2d099170-34a5-40b1-ea82-77fc31752fe3"
      },
      "outputs": [
        {
          "output_type": "stream",
          "name": "stdout",
          "text": [
            "True\n",
            "True\n",
            "True\n",
            "True\n"
          ]
        }
      ],
      "source": [
        "def all_are_positive(numbers):\n",
        "  \"\"\"zwraca czy wszystkie liczby są dodatnie\"\"\"\n",
        "  return reduce(lambda x, y: x and y, map(lambda x: x > 0, numbers), True)\n",
        "\n",
        "\n",
        "print(all_are_positive([])) #PS: tu sie im wykraczy bez inicjalizatora :)\n",
        "print(all_are_positive([1,2,3]))\n",
        "print(not all_are_positive([-1,2,3]))\n",
        "print(not all_are_positive([5,6,-2,1]))\n"
      ]
    },
    {
      "cell_type": "markdown",
      "metadata": {
        "id": "gHaSpUXCjALY"
      },
      "source": [
        "## Zadanie 6"
      ]
    },
    {
      "cell_type": "markdown",
      "metadata": {
        "id": "i36X5jcYjALY"
      },
      "source": [
        "Przepisz poniższą funkcję korzystając wyłącznie z funkcji reduce, map i filter oraz lambd"
      ]
    },
    {
      "cell_type": "code",
      "execution_count": null,
      "metadata": {
        "colab": {
          "base_uri": "https://localhost:8080/"
        },
        "id": "P_q_ruuujALY",
        "outputId": "8b7c6ab5-6f3f-48a1-f164-e2ea74acdf60"
      },
      "outputs": [
        {
          "output_type": "stream",
          "name": "stdout",
          "text": [
            "True\n",
            "True\n",
            "True\n"
          ]
        }
      ],
      "source": [
        "def flatten(lists):\n",
        "  return reduce(lambda x,y: x+y, lists)\n",
        "\n",
        "print(flatten([[]])==[])\n",
        "print(flatten([[1,2],[3,4]])==[1,2,3,4])\n",
        "print(flatten([[\"1\", 1.1],[]])==[\"1\", 1.1])"
      ]
    },
    {
      "cell_type": "markdown",
      "metadata": {
        "id": "LWIu9GACjALY"
      },
      "source": [
        "-------"
      ]
    },
    {
      "cell_type": "markdown",
      "metadata": {
        "id": "pMDoZKpgjALY"
      },
      "source": [
        "#### Jednolinijkowce\n",
        "W poniższej serii zadań **nie** używaj list/dict/set comprehension, zamiast tego użyj paradygmatu funkcyjnego. Każde rozwiązanie powinno być jednolinijkowe."
      ]
    },
    {
      "cell_type": "markdown",
      "metadata": {
        "id": "inEQwGI7jALY"
      },
      "source": [
        "## Zadanie 7"
      ]
    },
    {
      "cell_type": "code",
      "execution_count": null,
      "metadata": {
        "colab": {
          "base_uri": "https://localhost:8080/"
        },
        "id": "ozPSeENGjALY",
        "outputId": "0791d658-0479-4e90-c7d7-388a30083177"
      },
      "outputs": [
        {
          "output_type": "stream",
          "name": "stdout",
          "text": [
            "True\n",
            "True\n"
          ]
        }
      ],
      "source": [
        "def celsius_to_fahrenheit(x):\n",
        "  \"\"\"Konwertuje liste temperatur w stopniach Celsjusza do skali Fahrenheita\"\"\"\n",
        "  return list(map(lambda x: 1.8*x+32, x))\n",
        "\n",
        "\n",
        "print(list(celsius_to_fahrenheit([0, 10, 100])) == [32.0, 50.0, 212.0])\n",
        "print(list(celsius_to_fahrenheit([-123, 0])) == [-189.4, 32.0])"
      ]
    },
    {
      "cell_type": "markdown",
      "metadata": {
        "id": "5P97tyr3jALY"
      },
      "source": [
        "## Zadanie 8"
      ]
    },
    {
      "cell_type": "code",
      "execution_count": null,
      "metadata": {
        "colab": {
          "base_uri": "https://localhost:8080/"
        },
        "id": "E9c7wCj4jALZ",
        "outputId": "4702741a-f655-4c5e-8a4a-ff1c7e810f4e"
      },
      "outputs": [
        {
          "output_type": "stream",
          "name": "stdout",
          "text": [
            "True\n",
            "True\n",
            "True\n"
          ]
        }
      ],
      "source": [
        "from functools import reduce\n",
        "\n",
        "def product_greater_than(x, k=0):\n",
        "  \"\"\"Zwraca iloczyn liczb w liście x większych od k\"\"\"\n",
        "  return reduce(lambda x,y: x*y, filter(lambda x: x > k, x))\n",
        "\n",
        "\n",
        "print(product_greater_than([1, 2, 3]) == 6)\n",
        "print(product_greater_than([1, 2, 3], 2) == 3)\n",
        "print(product_greater_than([-4, 5, 10, 23, 123], -5) == -565800)"
      ]
    },
    {
      "cell_type": "markdown",
      "metadata": {
        "id": "cfPaQE3XjALZ"
      },
      "source": [
        "## Zadanie 9"
      ]
    },
    {
      "cell_type": "code",
      "execution_count": null,
      "metadata": {
        "colab": {
          "base_uri": "https://localhost:8080/"
        },
        "id": "6IKeO2CWjALZ",
        "outputId": "7025d318-9239-418b-97b9-31243407245e"
      },
      "outputs": [
        {
          "output_type": "stream",
          "name": "stdout",
          "text": [
            "True\n",
            "True\n",
            "True\n"
          ]
        }
      ],
      "source": [
        "from functools import reduce\n",
        "\n",
        "def create_sentence(x, k=0):\n",
        "  \"\"\"Łączy słowa (o długości co najmniej k) z listy x w zdanie - nie używa reduce\"\"\"\n",
        "  return \" \".join(filter(lambda x: len(x) >= k, x))\n",
        "\n",
        "print(create_sentence(['ala', 'ma', 'kota']) == 'ala ma kota')\n",
        "print(create_sentence(['ala']) == 'ala')\n",
        "print(create_sentence(['ala', 'ma', 'pieknego', 'kota'], k=3) == 'ala pieknego kota')"
      ]
    },
    {
      "cell_type": "markdown",
      "metadata": {
        "id": "zPlmMh0ujALZ"
      },
      "source": [
        "## Zadanie 10"
      ]
    },
    {
      "cell_type": "code",
      "execution_count": null,
      "metadata": {
        "colab": {
          "base_uri": "https://localhost:8080/"
        },
        "id": "SsMDH3l5jALZ",
        "outputId": "574300a5-272a-440d-bf65-e0234b52c50f"
      },
      "outputs": [
        {
          "output_type": "stream",
          "name": "stdout",
          "text": [
            "True\n",
            "True\n",
            "True\n",
            "True\n"
          ]
        }
      ],
      "source": [
        "def tuple_if_sum_greater(k, *lists):\n",
        "  \"\"\"Zwraca k-elementową krotke składającą się z kolejnych elementów list podanych jako arguemnty pozycyjne,\n",
        "  jeżeli ich suma jest większa niż parametr k\"\"\"\n",
        "  return filter(lambda x: sum(x) > k, zip(*lists))\n",
        "\n",
        "print(list(tuple_if_sum_greater(0, [1,2,3])) == [(1,),(2,),(3,)])\n",
        "print(list(tuple_if_sum_greater(4, [1,2,3], [2,3,4])) == [(2,3),(3,4)])\n",
        "print(list(tuple_if_sum_greater(10, [1,2,3], [2,3,4])) == [])\n",
        "print(list(tuple_if_sum_greater(0, [1,2], [3,4], [5,6])) == [(1,3,5), (2,4,6)])"
      ]
    },
    {
      "cell_type": "markdown",
      "metadata": {
        "id": "ZXqP0M1NjALZ"
      },
      "source": [
        "## Zadanie 11"
      ]
    },
    {
      "cell_type": "code",
      "execution_count": null,
      "metadata": {
        "colab": {
          "base_uri": "https://localhost:8080/"
        },
        "id": "JtxPJ0TEjALZ",
        "outputId": "76b19563-2432-461b-d65d-d3494988f682"
      },
      "outputs": [
        {
          "output_type": "stream",
          "name": "stdout",
          "text": [
            "True\n",
            "True\n",
            "True\n"
          ]
        }
      ],
      "source": [
        "from math import sqrt\n",
        "\n",
        "def primes(N):\n",
        "  \"\"\"Zwraca zbiór liczb pierwszych od 0 do N włącznie\"\"\"\n",
        "  return set(filter(lambda x: all(x % i != 0 for i in range(2, int(sqrt(x)) + 1)), range(2, N+1)))\n",
        "\n",
        "print(primes(5) == {2, 3, 5})\n",
        "print(primes(10) == {2, 3, 5, 7})\n",
        "print(primes(100) == {2, 3, 5, 7, 11, 13, 17, 19, 23, 29, 31, 37, 41,\n",
        "                      43, 47, 53, 59, 61, 67, 71, 73, 79, 83, 89, 97})"
      ]
    }
  ],
  "metadata": {
    "kernelspec": {
      "display_name": "Python 3",
      "language": "python",
      "name": "python3"
    },
    "language_info": {
      "codemirror_mode": {
        "name": "ipython",
        "version": 3
      },
      "file_extension": ".py",
      "mimetype": "text/x-python",
      "name": "python",
      "nbconvert_exporter": "python",
      "pygments_lexer": "ipython3",
      "version": "3.7.9"
    },
    "colab": {
      "provenance": [],
      "include_colab_link": true
    }
  },
  "nbformat": 4,
  "nbformat_minor": 0
}